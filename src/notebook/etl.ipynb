{
 "cells": [
  {
   "cell_type": "markdown",
   "metadata": {},
   "source": [
    "# AWS Redshift Schema Pipeline & ETL Pipeline"
   ]
  },
  {
   "cell_type": "code",
   "execution_count": 1,
   "metadata": {},
   "outputs": [],
   "source": [
    "# import from etl dir\n",
    "import sys, os\n",
    "etl_path = os.path.normpath(os.path.abspath(os.path.join(os.path.abspath(''), os.path.pardir, 'etl')))\n",
    "if (not (etl_path in sys.path)) :\n",
    "    sys.path.append(etl_path)"
   ]
  },
  {
   "cell_type": "code",
   "execution_count": 2,
   "metadata": {},
   "outputs": [],
   "source": [
    "# ETL libs\n",
    "from connection import Connection\n",
    "from create_tables import SchemaPipeline\n",
    "from etl import ETLPipeline"
   ]
  },
  {
   "cell_type": "markdown",
   "metadata": {},
   "source": [
    "## 1. Initialize Connection and Pipeline Objects\n",
    "\n",
    "- Set the AWS Redshift connector instance.\n",
    "- Create the schema pipeline executor.\n",
    "- Create the ETL pipeline executor."
   ]
  },
  {
   "cell_type": "code",
   "execution_count": 3,
   "metadata": {},
   "outputs": [],
   "source": [
    "connection = Connection(redshift=True)\n",
    "schema_pipeline = SchemaPipeline(connection)\n",
    "etl_pipeline = ETLPipeline(connection)"
   ]
  },
  {
   "cell_type": "markdown",
   "metadata": {},
   "source": [
    "## 2. Run the Schema Pipeline\n",
    "\n",
    "- Drop all tables.\n",
    "- Create staging tables.\n",
    "- Create Data Warehouse tables."
   ]
  },
  {
   "cell_type": "code",
   "execution_count": 4,
   "metadata": {},
   "outputs": [
    {
     "name": "stdout",
     "output_type": "stream",
     "text": [
      "-----------------------------------------------------\n",
      "AWS Redshift Schema Pipeline\n",
      "-----------------------------------------------------\n",
      "INFO: Droping the database tables...\n",
      "INFO: Database tables droped.\n",
      "INFO: Creating the database schema...\n",
      "INFO: Database schema created.\n",
      "-----------------------------------------------------\n",
      "Time Statistics\n",
      "-----------------------------------------------------\n",
      "Drop tables time: 8.03 seconds\n",
      "Create tables time: 20.48 seconds\n"
     ]
    }
   ],
   "source": [
    "schema_pipeline.run()"
   ]
  },
  {
   "cell_type": "markdown",
   "metadata": {},
   "source": [
    "## 2. Run the ETL Pipeline\n",
    "\n",
    "- Copy JSON data from S3 buckets to staging tables.\n",
    "- Select and transform data from staging tables.\n",
    "- Insert transformed data into Data Warehouse tables."
   ]
  },
  {
   "cell_type": "code",
   "execution_count": 5,
   "metadata": {},
   "outputs": [
    {
     "name": "stdout",
     "output_type": "stream",
     "text": [
      "-----------------------------------------------------\n",
      "AWS Redshift ETL Pipeline\n",
      "-----------------------------------------------------\n",
      "INFO: Loading S3 data into staging tables...\n",
      "INFO: Staging tables loaded.\n",
      "INFO: Inserting data into DW tables...\n",
      "INFO: DW tables loaded.\n",
      "-----------------------------------------------------\n",
      "Time Statistics\n",
      "-----------------------------------------------------\n",
      "Staging tables time: 916.73 seconds\n",
      "Insert tables time: 53.7 seconds\n"
     ]
    }
   ],
   "source": [
    "etl_pipeline.run()"
   ]
  },
  {
   "cell_type": "markdown",
   "metadata": {},
   "source": [
    "## 3. Fetch Data from All Tables to Validate the Process\n",
    "\n",
    "Define the ```fetch_dataframe``` function to query a table and export its data to a CSV file."
   ]
  },
  {
   "cell_type": "code",
   "execution_count": 6,
   "metadata": {},
   "outputs": [],
   "source": [
    "def fetch_dataframe(table, folder='../../data'):\n",
    "    # query table\n",
    "    connection.cursor.execute(f'SELECT * FROM {table}')\n",
    "    # fecth data frame\n",
    "    data = connection.cursor.fetch_dataframe()\n",
    "    # commit\n",
    "    connection.commit()\n",
    "    # export CSV data\n",
    "    data.to_csv(f'{folder}/{table}.csv')\n",
    "    # return data frama\n",
    "    return data"
   ]
  },
  {
   "cell_type": "markdown",
   "metadata": {},
   "source": [
    "### 3.1 Fetch ```staging_events``` table"
   ]
  },
  {
   "cell_type": "code",
   "execution_count": 7,
   "metadata": {},
   "outputs": [
    {
     "data": {
      "text/html": [
       "<div>\n",
       "<style scoped>\n",
       "    .dataframe tbody tr th:only-of-type {\n",
       "        vertical-align: middle;\n",
       "    }\n",
       "\n",
       "    .dataframe tbody tr th {\n",
       "        vertical-align: top;\n",
       "    }\n",
       "\n",
       "    .dataframe thead th {\n",
       "        text-align: right;\n",
       "    }\n",
       "</style>\n",
       "<table border=\"1\" class=\"dataframe\">\n",
       "  <thead>\n",
       "    <tr style=\"text-align: right;\">\n",
       "      <th></th>\n",
       "      <th>userid</th>\n",
       "      <th>firstname</th>\n",
       "      <th>lastname</th>\n",
       "      <th>gender</th>\n",
       "      <th>level</th>\n",
       "      <th>artist</th>\n",
       "      <th>song</th>\n",
       "      <th>length</th>\n",
       "      <th>sessionid</th>\n",
       "      <th>auth</th>\n",
       "      <th>iteminsession</th>\n",
       "      <th>location</th>\n",
       "      <th>registration</th>\n",
       "      <th>ts</th>\n",
       "      <th>page</th>\n",
       "      <th>useragent</th>\n",
       "      <th>status</th>\n",
       "      <th>method</th>\n",
       "    </tr>\n",
       "  </thead>\n",
       "  <tbody>\n",
       "    <tr>\n",
       "      <th>0</th>\n",
       "      <td>39</td>\n",
       "      <td>Walter</td>\n",
       "      <td>Frye</td>\n",
       "      <td>M</td>\n",
       "      <td>free</td>\n",
       "      <td>None</td>\n",
       "      <td>None</td>\n",
       "      <td>NaN</td>\n",
       "      <td>38</td>\n",
       "      <td>Logged In</td>\n",
       "      <td>0</td>\n",
       "      <td>San Francisco-Oakland-Hayward, CA</td>\n",
       "      <td>1540919166796</td>\n",
       "      <td>1541105830796</td>\n",
       "      <td>Home</td>\n",
       "      <td>\"Mozilla/5.0 (Macintosh; Intel Mac OS X 10_9_4...</td>\n",
       "      <td>200</td>\n",
       "      <td>GET</td>\n",
       "    </tr>\n",
       "    <tr>\n",
       "      <th>1</th>\n",
       "      <td>8</td>\n",
       "      <td>Kaylee</td>\n",
       "      <td>Summers</td>\n",
       "      <td>F</td>\n",
       "      <td>free</td>\n",
       "      <td>None</td>\n",
       "      <td>None</td>\n",
       "      <td>NaN</td>\n",
       "      <td>139</td>\n",
       "      <td>Logged In</td>\n",
       "      <td>0</td>\n",
       "      <td>Phoenix-Mesa-Scottsdale, AZ</td>\n",
       "      <td>1540344794796</td>\n",
       "      <td>1541106106796</td>\n",
       "      <td>Home</td>\n",
       "      <td>\"Mozilla/5.0 (Windows NT 6.1; WOW64) AppleWebK...</td>\n",
       "      <td>200</td>\n",
       "      <td>GET</td>\n",
       "    </tr>\n",
       "  </tbody>\n",
       "</table>\n",
       "</div>"
      ],
      "text/plain": [
       "  userid firstname lastname gender level artist  song  length  sessionid  \\\n",
       "0     39    Walter     Frye      M  free   None  None     NaN         38   \n",
       "1      8    Kaylee  Summers      F  free   None  None     NaN        139   \n",
       "\n",
       "        auth  iteminsession                           location   registration  \\\n",
       "0  Logged In              0  San Francisco-Oakland-Hayward, CA  1540919166796   \n",
       "1  Logged In              0        Phoenix-Mesa-Scottsdale, AZ  1540344794796   \n",
       "\n",
       "              ts  page                                          useragent  \\\n",
       "0  1541105830796  Home  \"Mozilla/5.0 (Macintosh; Intel Mac OS X 10_9_4...   \n",
       "1  1541106106796  Home  \"Mozilla/5.0 (Windows NT 6.1; WOW64) AppleWebK...   \n",
       "\n",
       "   status method  \n",
       "0     200    GET  \n",
       "1     200    GET  "
      ]
     },
     "execution_count": 7,
     "metadata": {},
     "output_type": "execute_result"
    }
   ],
   "source": [
    "staging_events = fetch_dataframe('staging_events')\n",
    "staging_events.head(2)"
   ]
  },
  {
   "cell_type": "markdown",
   "metadata": {},
   "source": [
    "### 3.2 Fetch ```staging_songs``` table"
   ]
  },
  {
   "cell_type": "code",
   "execution_count": 8,
   "metadata": {},
   "outputs": [
    {
     "data": {
      "text/html": [
       "<div>\n",
       "<style scoped>\n",
       "    .dataframe tbody tr th:only-of-type {\n",
       "        vertical-align: middle;\n",
       "    }\n",
       "\n",
       "    .dataframe tbody tr th {\n",
       "        vertical-align: top;\n",
       "    }\n",
       "\n",
       "    .dataframe thead th {\n",
       "        text-align: right;\n",
       "    }\n",
       "</style>\n",
       "<table border=\"1\" class=\"dataframe\">\n",
       "  <thead>\n",
       "    <tr style=\"text-align: right;\">\n",
       "      <th></th>\n",
       "      <th>song_id</th>\n",
       "      <th>title</th>\n",
       "      <th>duration</th>\n",
       "      <th>year</th>\n",
       "      <th>num_songs</th>\n",
       "      <th>artist_id</th>\n",
       "      <th>artist_name</th>\n",
       "      <th>artist_location</th>\n",
       "      <th>artist_latitude</th>\n",
       "      <th>artist_longitude</th>\n",
       "    </tr>\n",
       "  </thead>\n",
       "  <tbody>\n",
       "    <tr>\n",
       "      <th>0</th>\n",
       "      <td>SOBLFFE12AF72AA5BA</td>\n",
       "      <td>Scream</td>\n",
       "      <td>213.94240</td>\n",
       "      <td>2009</td>\n",
       "      <td>1</td>\n",
       "      <td>ARJNIUY12298900C91</td>\n",
       "      <td>Adelitas Way</td>\n",
       "      <td></td>\n",
       "      <td>NaN</td>\n",
       "      <td>NaN</td>\n",
       "    </tr>\n",
       "    <tr>\n",
       "      <th>1</th>\n",
       "      <td>SOEKAZG12AB018837E</td>\n",
       "      <td>I'll Slap Your Face (Entertainment USA Theme)</td>\n",
       "      <td>129.85424</td>\n",
       "      <td>2001</td>\n",
       "      <td>1</td>\n",
       "      <td>ARSVTNL1187B992A91</td>\n",
       "      <td>Jonathan King</td>\n",
       "      <td>London, England</td>\n",
       "      <td>51.50632</td>\n",
       "      <td>-0.12714</td>\n",
       "    </tr>\n",
       "  </tbody>\n",
       "</table>\n",
       "</div>"
      ],
      "text/plain": [
       "              song_id                                          title  \\\n",
       "0  SOBLFFE12AF72AA5BA                                         Scream   \n",
       "1  SOEKAZG12AB018837E  I'll Slap Your Face (Entertainment USA Theme)   \n",
       "\n",
       "    duration  year  num_songs           artist_id    artist_name  \\\n",
       "0  213.94240  2009          1  ARJNIUY12298900C91   Adelitas Way   \n",
       "1  129.85424  2001          1  ARSVTNL1187B992A91  Jonathan King   \n",
       "\n",
       "   artist_location  artist_latitude  artist_longitude  \n",
       "0                               NaN               NaN  \n",
       "1  London, England         51.50632          -0.12714  "
      ]
     },
     "execution_count": 8,
     "metadata": {},
     "output_type": "execute_result"
    }
   ],
   "source": [
    "staging_songs = fetch_dataframe('staging_songs')\n",
    "staging_songs.head(2)"
   ]
  },
  {
   "cell_type": "markdown",
   "metadata": {},
   "source": [
    "### 3.3 Fetch ```users``` table"
   ]
  },
  {
   "cell_type": "code",
   "execution_count": 9,
   "metadata": {},
   "outputs": [
    {
     "data": {
      "text/html": [
       "<div>\n",
       "<style scoped>\n",
       "    .dataframe tbody tr th:only-of-type {\n",
       "        vertical-align: middle;\n",
       "    }\n",
       "\n",
       "    .dataframe tbody tr th {\n",
       "        vertical-align: top;\n",
       "    }\n",
       "\n",
       "    .dataframe thead th {\n",
       "        text-align: right;\n",
       "    }\n",
       "</style>\n",
       "<table border=\"1\" class=\"dataframe\">\n",
       "  <thead>\n",
       "    <tr style=\"text-align: right;\">\n",
       "      <th></th>\n",
       "      <th>user_id</th>\n",
       "      <th>first_name</th>\n",
       "      <th>last_name</th>\n",
       "      <th>gender</th>\n",
       "      <th>level</th>\n",
       "    </tr>\n",
       "  </thead>\n",
       "  <tbody>\n",
       "    <tr>\n",
       "      <th>0</th>\n",
       "      <td>2</td>\n",
       "      <td>Jizelle</td>\n",
       "      <td>Benjamin</td>\n",
       "      <td>F</td>\n",
       "      <td>free</td>\n",
       "    </tr>\n",
       "    <tr>\n",
       "      <th>1</th>\n",
       "      <td>4</td>\n",
       "      <td>Alivia</td>\n",
       "      <td>Terrell</td>\n",
       "      <td>F</td>\n",
       "      <td>free</td>\n",
       "    </tr>\n",
       "  </tbody>\n",
       "</table>\n",
       "</div>"
      ],
      "text/plain": [
       "   user_id first_name last_name gender level\n",
       "0        2    Jizelle  Benjamin      F  free\n",
       "1        4     Alivia   Terrell      F  free"
      ]
     },
     "execution_count": 9,
     "metadata": {},
     "output_type": "execute_result"
    }
   ],
   "source": [
    "users = fetch_dataframe('users')\n",
    "users.head(2)"
   ]
  },
  {
   "cell_type": "markdown",
   "metadata": {},
   "source": [
    "### 3.4 Fetch ```songs``` table"
   ]
  },
  {
   "cell_type": "code",
   "execution_count": 10,
   "metadata": {},
   "outputs": [
    {
     "data": {
      "text/html": [
       "<div>\n",
       "<style scoped>\n",
       "    .dataframe tbody tr th:only-of-type {\n",
       "        vertical-align: middle;\n",
       "    }\n",
       "\n",
       "    .dataframe tbody tr th {\n",
       "        vertical-align: top;\n",
       "    }\n",
       "\n",
       "    .dataframe thead th {\n",
       "        text-align: right;\n",
       "    }\n",
       "</style>\n",
       "<table border=\"1\" class=\"dataframe\">\n",
       "  <thead>\n",
       "    <tr style=\"text-align: right;\">\n",
       "      <th></th>\n",
       "      <th>song_id</th>\n",
       "      <th>title</th>\n",
       "      <th>year</th>\n",
       "      <th>duration</th>\n",
       "      <th>artist_id</th>\n",
       "    </tr>\n",
       "  </thead>\n",
       "  <tbody>\n",
       "    <tr>\n",
       "      <th>0</th>\n",
       "      <td>SOSQIHH12A8C13370B</td>\n",
       "      <td>15 Step</td>\n",
       "      <td>2007</td>\n",
       "      <td>237.21751</td>\n",
       "      <td>ARH6W4X1187B99274F</td>\n",
       "    </tr>\n",
       "    <tr>\n",
       "      <th>1</th>\n",
       "      <td>SOKOGIP12AB0182FCD</td>\n",
       "      <td>Adrenaline</td>\n",
       "      <td>2007</td>\n",
       "      <td>200.90730</td>\n",
       "      <td>AROS1ML1187FB4CF35</td>\n",
       "    </tr>\n",
       "  </tbody>\n",
       "</table>\n",
       "</div>"
      ],
      "text/plain": [
       "              song_id       title  year   duration           artist_id\n",
       "0  SOSQIHH12A8C13370B     15 Step  2007  237.21751  ARH6W4X1187B99274F\n",
       "1  SOKOGIP12AB0182FCD  Adrenaline  2007  200.90730  AROS1ML1187FB4CF35"
      ]
     },
     "execution_count": 10,
     "metadata": {},
     "output_type": "execute_result"
    }
   ],
   "source": [
    "songs = fetch_dataframe('songs')\n",
    "songs.head(2)"
   ]
  },
  {
   "cell_type": "markdown",
   "metadata": {},
   "source": [
    "### 3.5 Fetch ```artists``` table"
   ]
  },
  {
   "cell_type": "code",
   "execution_count": 11,
   "metadata": {},
   "outputs": [
    {
     "data": {
      "text/html": [
       "<div>\n",
       "<style scoped>\n",
       "    .dataframe tbody tr th:only-of-type {\n",
       "        vertical-align: middle;\n",
       "    }\n",
       "\n",
       "    .dataframe tbody tr th {\n",
       "        vertical-align: top;\n",
       "    }\n",
       "\n",
       "    .dataframe thead th {\n",
       "        text-align: right;\n",
       "    }\n",
       "</style>\n",
       "<table border=\"1\" class=\"dataframe\">\n",
       "  <thead>\n",
       "    <tr style=\"text-align: right;\">\n",
       "      <th></th>\n",
       "      <th>artist_id</th>\n",
       "      <th>name</th>\n",
       "      <th>location</th>\n",
       "      <th>latitude</th>\n",
       "      <th>longitude</th>\n",
       "    </tr>\n",
       "  </thead>\n",
       "  <tbody>\n",
       "    <tr>\n",
       "      <th>0</th>\n",
       "      <td>AROS1ML1187FB4CF35</td>\n",
       "      <td>12 Stones</td>\n",
       "      <td>Mandeville, Louisiana</td>\n",
       "      <td>30.37251</td>\n",
       "      <td>-90.0791</td>\n",
       "    </tr>\n",
       "    <tr>\n",
       "      <th>1</th>\n",
       "      <td>ARHO39G1187FB4E31B</td>\n",
       "      <td>38 Special</td>\n",
       "      <td>Jacksonville, FL</td>\n",
       "      <td>NaN</td>\n",
       "      <td>NaN</td>\n",
       "    </tr>\n",
       "  </tbody>\n",
       "</table>\n",
       "</div>"
      ],
      "text/plain": [
       "            artist_id        name               location  latitude  longitude\n",
       "0  AROS1ML1187FB4CF35   12 Stones  Mandeville, Louisiana  30.37251   -90.0791\n",
       "1  ARHO39G1187FB4E31B  38 Special       Jacksonville, FL       NaN        NaN"
      ]
     },
     "execution_count": 11,
     "metadata": {},
     "output_type": "execute_result"
    }
   ],
   "source": [
    "artists = fetch_dataframe('artists')\n",
    "artists.head(2)"
   ]
  },
  {
   "cell_type": "markdown",
   "metadata": {},
   "source": [
    "### 3.6 Fetch ```time``` table"
   ]
  },
  {
   "cell_type": "code",
   "execution_count": 12,
   "metadata": {},
   "outputs": [
    {
     "data": {
      "text/html": [
       "<div>\n",
       "<style scoped>\n",
       "    .dataframe tbody tr th:only-of-type {\n",
       "        vertical-align: middle;\n",
       "    }\n",
       "\n",
       "    .dataframe tbody tr th {\n",
       "        vertical-align: top;\n",
       "    }\n",
       "\n",
       "    .dataframe thead th {\n",
       "        text-align: right;\n",
       "    }\n",
       "</style>\n",
       "<table border=\"1\" class=\"dataframe\">\n",
       "  <thead>\n",
       "    <tr style=\"text-align: right;\">\n",
       "      <th></th>\n",
       "      <th>start_time</th>\n",
       "      <th>hour</th>\n",
       "      <th>day</th>\n",
       "      <th>week</th>\n",
       "      <th>month</th>\n",
       "      <th>year</th>\n",
       "      <th>weekday</th>\n",
       "    </tr>\n",
       "  </thead>\n",
       "  <tbody>\n",
       "    <tr>\n",
       "      <th>0</th>\n",
       "      <td>2018-11-02 17:31:45.796</td>\n",
       "      <td>17</td>\n",
       "      <td>2</td>\n",
       "      <td>44</td>\n",
       "      <td>11</td>\n",
       "      <td>2018</td>\n",
       "      <td>5</td>\n",
       "    </tr>\n",
       "    <tr>\n",
       "      <th>1</th>\n",
       "      <td>2018-11-02 18:02:42.796</td>\n",
       "      <td>18</td>\n",
       "      <td>2</td>\n",
       "      <td>44</td>\n",
       "      <td>11</td>\n",
       "      <td>2018</td>\n",
       "      <td>5</td>\n",
       "    </tr>\n",
       "  </tbody>\n",
       "</table>\n",
       "</div>"
      ],
      "text/plain": [
       "               start_time hour day week month  year weekday\n",
       "0 2018-11-02 17:31:45.796   17   2   44    11  2018       5\n",
       "1 2018-11-02 18:02:42.796   18   2   44    11  2018       5"
      ]
     },
     "execution_count": 12,
     "metadata": {},
     "output_type": "execute_result"
    }
   ],
   "source": [
    "time = fetch_dataframe('time')\n",
    "time.head(2)"
   ]
  },
  {
   "cell_type": "markdown",
   "metadata": {},
   "source": [
    "### 3.7 Fetch ```songplays``` table"
   ]
  },
  {
   "cell_type": "code",
   "execution_count": 13,
   "metadata": {},
   "outputs": [
    {
     "data": {
      "text/html": [
       "<div>\n",
       "<style scoped>\n",
       "    .dataframe tbody tr th:only-of-type {\n",
       "        vertical-align: middle;\n",
       "    }\n",
       "\n",
       "    .dataframe tbody tr th {\n",
       "        vertical-align: top;\n",
       "    }\n",
       "\n",
       "    .dataframe thead th {\n",
       "        text-align: right;\n",
       "    }\n",
       "</style>\n",
       "<table border=\"1\" class=\"dataframe\">\n",
       "  <thead>\n",
       "    <tr style=\"text-align: right;\">\n",
       "      <th></th>\n",
       "      <th>songplay_id</th>\n",
       "      <th>level</th>\n",
       "      <th>location</th>\n",
       "      <th>user_agent</th>\n",
       "      <th>session_id</th>\n",
       "      <th>user_id</th>\n",
       "      <th>song_id</th>\n",
       "      <th>artist_id</th>\n",
       "      <th>start_time</th>\n",
       "    </tr>\n",
       "  </thead>\n",
       "  <tbody>\n",
       "    <tr>\n",
       "      <th>0</th>\n",
       "      <td>101823</td>\n",
       "      <td>free</td>\n",
       "      <td>Washington-Arlington-Alexandria, DC-VA-MD-WV</td>\n",
       "      <td>\"Mozilla/5.0 (Macintosh; Intel Mac OS X 10_9_4...</td>\n",
       "      <td>182</td>\n",
       "      <td>10</td>\n",
       "      <td>SOHTKMO12AB01843B0</td>\n",
       "      <td>AR5EYTL1187B98EDA0</td>\n",
       "      <td>2018-11-02 17:31:45.796</td>\n",
       "    </tr>\n",
       "    <tr>\n",
       "      <th>1</th>\n",
       "      <td>502072</td>\n",
       "      <td>free</td>\n",
       "      <td>New Haven-Milford, CT</td>\n",
       "      <td>\"Mozilla/5.0 (Windows NT 6.3; WOW64) AppleWebK...</td>\n",
       "      <td>207</td>\n",
       "      <td>50</td>\n",
       "      <td>SOBONKR12A58A7A7E0</td>\n",
       "      <td>AR5E44Z1187B9A1D74</td>\n",
       "      <td>2018-11-02 18:02:42.796</td>\n",
       "    </tr>\n",
       "  </tbody>\n",
       "</table>\n",
       "</div>"
      ],
      "text/plain": [
       "  songplay_id level                                      location  \\\n",
       "0      101823  free  Washington-Arlington-Alexandria, DC-VA-MD-WV   \n",
       "1      502072  free                         New Haven-Milford, CT   \n",
       "\n",
       "                                          user_agent  session_id  user_id  \\\n",
       "0  \"Mozilla/5.0 (Macintosh; Intel Mac OS X 10_9_4...         182       10   \n",
       "1  \"Mozilla/5.0 (Windows NT 6.3; WOW64) AppleWebK...         207       50   \n",
       "\n",
       "              song_id           artist_id              start_time  \n",
       "0  SOHTKMO12AB01843B0  AR5EYTL1187B98EDA0 2018-11-02 17:31:45.796  \n",
       "1  SOBONKR12A58A7A7E0  AR5E44Z1187B9A1D74 2018-11-02 18:02:42.796  "
      ]
     },
     "execution_count": 13,
     "metadata": {},
     "output_type": "execute_result"
    }
   ],
   "source": [
    "songplays = fetch_dataframe('songplays')\n",
    "songplays.head(2)"
   ]
  },
  {
   "cell_type": "markdown",
   "metadata": {},
   "source": [
    "## 4. Close Connection"
   ]
  },
  {
   "cell_type": "code",
   "execution_count": 14,
   "metadata": {},
   "outputs": [],
   "source": [
    "connection.close()"
   ]
  }
 ],
 "metadata": {
  "kernelspec": {
   "display_name": "Python 3.10.5 ('py310')",
   "language": "python",
   "name": "python3"
  },
  "language_info": {
   "codemirror_mode": {
    "name": "ipython",
    "version": 3
   },
   "file_extension": ".py",
   "mimetype": "text/x-python",
   "name": "python",
   "nbconvert_exporter": "python",
   "pygments_lexer": "ipython3",
   "version": "3.10.5"
  },
  "orig_nbformat": 4,
  "vscode": {
   "interpreter": {
    "hash": "d47df541592af340dce933e7169349dc2df4da248e87c9a46187cbe39a8376b2"
   }
  }
 },
 "nbformat": 4,
 "nbformat_minor": 2
}
