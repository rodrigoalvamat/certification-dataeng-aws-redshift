{
 "cells": [
  {
   "cell_type": "code",
   "execution_count": 1,
   "metadata": {},
   "outputs": [],
   "source": [
    "# import from etl dir\n",
    "import sys, os\n",
    "etl_path = os.path.normpath(os.path.abspath(os.path.join(os.path.abspath(''), os.path.pardir, 'etl')))\n",
    "if (not (etl_path in sys.path)) :\n",
    "    sys.path.append(etl_path)"
   ]
  },
  {
   "cell_type": "code",
   "execution_count": 2,
   "metadata": {},
   "outputs": [],
   "source": [
    "# AWS libs\n",
    "from s3 import S3Loader\n",
    "# config libs\n",
    "from config import Config\n",
    "# data libs\n",
    "import pandas as pd"
   ]
  },
  {
   "cell_type": "code",
   "execution_count": 3,
   "metadata": {},
   "outputs": [],
   "source": [
    "def describe_types(row, columns):\n",
    "    sizes = []\n",
    "    for column in columns:\n",
    "        value = row[column]\n",
    "        size = len(value) if type(value) == 'object' else len(str(value))\n",
    "        sizes.append(size)\n",
    "    return sizes"
   ]
  },
  {
   "cell_type": "code",
   "execution_count": 4,
   "metadata": {},
   "outputs": [],
   "source": [
    "config = Config()\n",
    "s3Loader = S3Loader(config)"
   ]
  },
  {
   "cell_type": "code",
   "execution_count": 5,
   "metadata": {},
   "outputs": [],
   "source": [
    "log_data = s3Loader.load_data(config.get('S3', 'LOG_DATA'), -1)"
   ]
  },
  {
   "cell_type": "code",
   "execution_count": 6,
   "metadata": {},
   "outputs": [],
   "source": [
    "staging_events = pd.read_csv('../../data/staging_events.csv')\n",
    "staging_events = staging_events.drop(staging_events.columns[[0]], axis=1)"
   ]
  },
  {
   "cell_type": "code",
   "execution_count": 7,
   "metadata": {},
   "outputs": [
    {
     "data": {
      "text/html": [
       "<div>\n",
       "<style scoped>\n",
       "    .dataframe tbody tr th:only-of-type {\n",
       "        vertical-align: middle;\n",
       "    }\n",
       "\n",
       "    .dataframe tbody tr th {\n",
       "        vertical-align: top;\n",
       "    }\n",
       "\n",
       "    .dataframe thead th {\n",
       "        text-align: right;\n",
       "    }\n",
       "</style>\n",
       "<table border=\"1\" class=\"dataframe\">\n",
       "  <thead>\n",
       "    <tr style=\"text-align: right;\">\n",
       "      <th></th>\n",
       "      <th>userid</th>\n",
       "      <th>firstname</th>\n",
       "      <th>lastname</th>\n",
       "      <th>gender</th>\n",
       "      <th>level</th>\n",
       "      <th>artist</th>\n",
       "      <th>song</th>\n",
       "      <th>length</th>\n",
       "      <th>sessionid</th>\n",
       "      <th>auth</th>\n",
       "      <th>iteminsession</th>\n",
       "      <th>location</th>\n",
       "      <th>registration</th>\n",
       "      <th>ts</th>\n",
       "      <th>page</th>\n",
       "      <th>useragent</th>\n",
       "      <th>status</th>\n",
       "      <th>method</th>\n",
       "    </tr>\n",
       "  </thead>\n",
       "  <tbody>\n",
       "    <tr>\n",
       "      <th>0</th>\n",
       "      <td>39.0</td>\n",
       "      <td>Walter</td>\n",
       "      <td>Frye</td>\n",
       "      <td>M</td>\n",
       "      <td>free</td>\n",
       "      <td>NaN</td>\n",
       "      <td>NaN</td>\n",
       "      <td>NaN</td>\n",
       "      <td>38.0</td>\n",
       "      <td>Logged In</td>\n",
       "      <td>0.0</td>\n",
       "      <td>San Francisco-Oakland-Hayward, CA</td>\n",
       "      <td>1.540919e+12</td>\n",
       "      <td>1541105830796</td>\n",
       "      <td>Home</td>\n",
       "      <td>\"Mozilla/5.0 (Macintosh; Intel Mac OS X 10_9_4...</td>\n",
       "      <td>200.0</td>\n",
       "      <td>GET</td>\n",
       "    </tr>\n",
       "    <tr>\n",
       "      <th>1</th>\n",
       "      <td>8.0</td>\n",
       "      <td>Kaylee</td>\n",
       "      <td>Summers</td>\n",
       "      <td>F</td>\n",
       "      <td>free</td>\n",
       "      <td>NaN</td>\n",
       "      <td>NaN</td>\n",
       "      <td>NaN</td>\n",
       "      <td>139.0</td>\n",
       "      <td>Logged In</td>\n",
       "      <td>0.0</td>\n",
       "      <td>Phoenix-Mesa-Scottsdale, AZ</td>\n",
       "      <td>1.540345e+12</td>\n",
       "      <td>1541106106796</td>\n",
       "      <td>Home</td>\n",
       "      <td>\"Mozilla/5.0 (Windows NT 6.1; WOW64) AppleWebK...</td>\n",
       "      <td>200.0</td>\n",
       "      <td>GET</td>\n",
       "    </tr>\n",
       "  </tbody>\n",
       "</table>\n",
       "</div>"
      ],
      "text/plain": [
       "   userid firstname lastname gender level artist song  length  sessionid  \\\n",
       "0    39.0    Walter     Frye      M  free    NaN  NaN     NaN       38.0   \n",
       "1     8.0    Kaylee  Summers      F  free    NaN  NaN     NaN      139.0   \n",
       "\n",
       "        auth  iteminsession                           location  registration  \\\n",
       "0  Logged In            0.0  San Francisco-Oakland-Hayward, CA  1.540919e+12   \n",
       "1  Logged In            0.0        Phoenix-Mesa-Scottsdale, AZ  1.540345e+12   \n",
       "\n",
       "              ts  page                                          useragent  \\\n",
       "0  1541105830796  Home  \"Mozilla/5.0 (Macintosh; Intel Mac OS X 10_9_4...   \n",
       "1  1541106106796  Home  \"Mozilla/5.0 (Windows NT 6.1; WOW64) AppleWebK...   \n",
       "\n",
       "   status method  \n",
       "0   200.0    GET  \n",
       "1   200.0    GET  "
      ]
     },
     "execution_count": 7,
     "metadata": {},
     "output_type": "execute_result"
    }
   ],
   "source": [
    "log_data.columns = log_data.columns.str.lower()\n",
    "\n",
    "staging_events = staging_events[staging_events.columns].sort_values(by=['ts'])\n",
    "staging_events.index = log_data.index\n",
    "\n",
    "matches = staging_events[staging_events[staging_events.columns].sort_values(\n",
    "    by=['ts']) == log_data[staging_events.columns].sort_values(by=['ts'])]\n",
    "matches.head(2)"
   ]
  },
  {
   "cell_type": "code",
   "execution_count": 8,
   "metadata": {},
   "outputs": [
    {
     "name": "stdout",
     "output_type": "stream",
     "text": [
      "(6820, 18)\n"
     ]
    },
    {
     "data": {
      "text/plain": [
       "userid           0\n",
       "firstname        0\n",
       "lastname         0\n",
       "gender           0\n",
       "level            0\n",
       "artist           0\n",
       "song             0\n",
       "length           0\n",
       "sessionid        0\n",
       "auth             0\n",
       "iteminsession    0\n",
       "location         0\n",
       "registration     0\n",
       "ts               0\n",
       "page             0\n",
       "useragent        0\n",
       "status           0\n",
       "method           0\n",
       "dtype: int64"
      ]
     },
     "execution_count": 8,
     "metadata": {},
     "output_type": "execute_result"
    }
   ],
   "source": [
    "staging_events_filtered = staging_events[staging_events['page'] == 'NextSong'].copy()\n",
    "print(staging_events_filtered.shape)\n",
    "staging_events_filtered.isnull().sum()"
   ]
  },
  {
   "cell_type": "code",
   "execution_count": 9,
   "metadata": {},
   "outputs": [
    {
     "data": {
      "text/plain": [
       "6820"
      ]
     },
     "execution_count": 9,
     "metadata": {},
     "output_type": "execute_result"
    }
   ],
   "source": [
    "staging_events_filtered['songplay_id'] = staging_events_filtered.apply(\n",
    "    lambda x: str(x['userid']) + str(x['sessionid']) + str(x['iteminsession']), axis=1)\n",
    "len(staging_events_filtered['songplay_id'].unique())"
   ]
  },
  {
   "cell_type": "code",
   "execution_count": 10,
   "metadata": {},
   "outputs": [
    {
     "data": {
      "text/plain": [
       "userid             5\n",
       "firstname         10\n",
       "lastname           9\n",
       "gender             3\n",
       "level              4\n",
       "artist            89\n",
       "song             151\n",
       "length            10\n",
       "sessionid          4\n",
       "auth              10\n",
       "iteminsession      3\n",
       "location          46\n",
       "registration      15\n",
       "ts                13\n",
       "page              16\n",
       "useragent        139\n",
       "status             3\n",
       "method             3\n",
       "dtype: int64"
      ]
     },
     "execution_count": 10,
     "metadata": {},
     "output_type": "execute_result"
    }
   ],
   "source": [
    "columns = staging_events.columns\n",
    "sizes = staging_events.apply(lambda x: describe_types(x, columns), axis=1)\n",
    "pd.DataFrame(sizes.tolist(), columns=columns).max()"
   ]
  },
  {
   "cell_type": "code",
   "execution_count": 11,
   "metadata": {},
   "outputs": [
    {
     "data": {
      "text/plain": [
       "{'jsonpaths': [\"$['artist']\",\n",
       "  \"$['auth']\",\n",
       "  \"$['firstName']\",\n",
       "  \"$['gender']\",\n",
       "  \"$['itemInSession']\",\n",
       "  \"$['lastName']\",\n",
       "  \"$['length']\",\n",
       "  \"$['level']\",\n",
       "  \"$['location']\",\n",
       "  \"$['method']\",\n",
       "  \"$['page']\",\n",
       "  \"$['registration']\",\n",
       "  \"$['sessionId']\",\n",
       "  \"$['song']\",\n",
       "  \"$['status']\",\n",
       "  \"$['ts']\",\n",
       "  \"$['userAgent']\",\n",
       "  \"$['userId']\"]}"
      ]
     },
     "execution_count": 11,
     "metadata": {},
     "output_type": "execute_result"
    }
   ],
   "source": [
    "log_path = s3Loader.load_path(config.get('S3', 'LOG_JSON_PATH'))\n",
    "log_path"
   ]
  },
  {
   "cell_type": "code",
   "execution_count": 12,
   "metadata": {},
   "outputs": [
    {
     "data": {
      "text/html": [
       "<div>\n",
       "<style scoped>\n",
       "    .dataframe tbody tr th:only-of-type {\n",
       "        vertical-align: middle;\n",
       "    }\n",
       "\n",
       "    .dataframe tbody tr th {\n",
       "        vertical-align: top;\n",
       "    }\n",
       "\n",
       "    .dataframe thead th {\n",
       "        text-align: right;\n",
       "    }\n",
       "</style>\n",
       "<table border=\"1\" class=\"dataframe\">\n",
       "  <thead>\n",
       "    <tr style=\"text-align: right;\">\n",
       "      <th></th>\n",
       "      <th>artist_id</th>\n",
       "      <th>artist_latitude</th>\n",
       "      <th>artist_location</th>\n",
       "      <th>artist_longitude</th>\n",
       "      <th>artist_name</th>\n",
       "      <th>duration</th>\n",
       "      <th>num_songs</th>\n",
       "      <th>song_id</th>\n",
       "      <th>title</th>\n",
       "      <th>year</th>\n",
       "    </tr>\n",
       "  </thead>\n",
       "  <tbody>\n",
       "    <tr>\n",
       "      <th>0</th>\n",
       "      <td>ARJNIUY12298900C91</td>\n",
       "      <td>NaN</td>\n",
       "      <td></td>\n",
       "      <td>NaN</td>\n",
       "      <td>Adelitas Way</td>\n",
       "      <td>213.94240</td>\n",
       "      <td>1</td>\n",
       "      <td>SOBLFFE12AF72AA5BA</td>\n",
       "      <td>Scream</td>\n",
       "      <td>2009</td>\n",
       "    </tr>\n",
       "    <tr>\n",
       "      <th>1</th>\n",
       "      <td>AR73AIO1187B9AD57B</td>\n",
       "      <td>37.77916</td>\n",
       "      <td>San Francisco, CA</td>\n",
       "      <td>-122.42005</td>\n",
       "      <td>Western Addiction</td>\n",
       "      <td>118.07302</td>\n",
       "      <td>1</td>\n",
       "      <td>SOQPWCR12A6D4FB2A3</td>\n",
       "      <td>A Poor Recipe For Civic Cohesion</td>\n",
       "      <td>2005</td>\n",
       "    </tr>\n",
       "  </tbody>\n",
       "</table>\n",
       "</div>"
      ],
      "text/plain": [
       "            artist_id  artist_latitude    artist_location  artist_longitude  \\\n",
       "0  ARJNIUY12298900C91              NaN                                  NaN   \n",
       "1  AR73AIO1187B9AD57B         37.77916  San Francisco, CA        -122.42005   \n",
       "\n",
       "         artist_name   duration  num_songs             song_id  \\\n",
       "0       Adelitas Way  213.94240          1  SOBLFFE12AF72AA5BA   \n",
       "1  Western Addiction  118.07302          1  SOQPWCR12A6D4FB2A3   \n",
       "\n",
       "                              title  year  \n",
       "0                            Scream  2009  \n",
       "1  A Poor Recipe For Civic Cohesion  2005  "
      ]
     },
     "execution_count": 12,
     "metadata": {},
     "output_type": "execute_result"
    }
   ],
   "source": [
    "song_data = s3Loader.load_data(config.get('S3', 'SONG_DATA'), 100)\n",
    "song_data.head(2)"
   ]
  },
  {
   "cell_type": "code",
   "execution_count": 13,
   "metadata": {},
   "outputs": [
    {
     "data": {
      "text/plain": [
       "artist_id           18\n",
       "artist_latitude      9\n",
       "artist_location     33\n",
       "artist_longitude    19\n",
       "artist_name         33\n",
       "duration             9\n",
       "num_songs            1\n",
       "song_id             18\n",
       "title               54\n",
       "year                 4\n",
       "dtype: int64"
      ]
     },
     "execution_count": 13,
     "metadata": {},
     "output_type": "execute_result"
    }
   ],
   "source": [
    "columns = song_data.columns\n",
    "sizes = song_data.apply(lambda x: describe_types(x, columns), axis=1)\n",
    "pd.DataFrame(sizes.tolist(), columns=columns).max()"
   ]
  },
  {
   "cell_type": "code",
   "execution_count": 14,
   "metadata": {},
   "outputs": [
    {
     "data": {
      "text/html": [
       "<div>\n",
       "<style scoped>\n",
       "    .dataframe tbody tr th:only-of-type {\n",
       "        vertical-align: middle;\n",
       "    }\n",
       "\n",
       "    .dataframe tbody tr th {\n",
       "        vertical-align: top;\n",
       "    }\n",
       "\n",
       "    .dataframe thead th {\n",
       "        text-align: right;\n",
       "    }\n",
       "</style>\n",
       "<table border=\"1\" class=\"dataframe\">\n",
       "  <thead>\n",
       "    <tr style=\"text-align: right;\">\n",
       "      <th></th>\n",
       "      <th>song_id</th>\n",
       "      <th>title</th>\n",
       "      <th>duration</th>\n",
       "      <th>year</th>\n",
       "      <th>num_songs</th>\n",
       "      <th>artist_id</th>\n",
       "      <th>artist_name</th>\n",
       "      <th>artist_location</th>\n",
       "      <th>artist_latitude</th>\n",
       "      <th>artist_longitude</th>\n",
       "    </tr>\n",
       "  </thead>\n",
       "  <tbody>\n",
       "    <tr>\n",
       "      <th>0</th>\n",
       "      <td>SOBLFFE12AF72AA5BA</td>\n",
       "      <td>Scream</td>\n",
       "      <td>213.94240</td>\n",
       "      <td>2009</td>\n",
       "      <td>1</td>\n",
       "      <td>ARJNIUY12298900C91</td>\n",
       "      <td>Adelitas Way</td>\n",
       "      <td>NaN</td>\n",
       "      <td>NaN</td>\n",
       "      <td>NaN</td>\n",
       "    </tr>\n",
       "    <tr>\n",
       "      <th>1</th>\n",
       "      <td>SOEKAZG12AB018837E</td>\n",
       "      <td>I'll Slap Your Face (Entertainment USA Theme)</td>\n",
       "      <td>129.85424</td>\n",
       "      <td>2001</td>\n",
       "      <td>1</td>\n",
       "      <td>ARSVTNL1187B992A91</td>\n",
       "      <td>Jonathan King</td>\n",
       "      <td>London, England</td>\n",
       "      <td>51.50632</td>\n",
       "      <td>-0.12714</td>\n",
       "    </tr>\n",
       "  </tbody>\n",
       "</table>\n",
       "</div>"
      ],
      "text/plain": [
       "              song_id                                          title  \\\n",
       "0  SOBLFFE12AF72AA5BA                                         Scream   \n",
       "1  SOEKAZG12AB018837E  I'll Slap Your Face (Entertainment USA Theme)   \n",
       "\n",
       "    duration  year  num_songs           artist_id    artist_name  \\\n",
       "0  213.94240  2009          1  ARJNIUY12298900C91   Adelitas Way   \n",
       "1  129.85424  2001          1  ARSVTNL1187B992A91  Jonathan King   \n",
       "\n",
       "   artist_location  artist_latitude  artist_longitude  \n",
       "0              NaN              NaN               NaN  \n",
       "1  London, England         51.50632          -0.12714  "
      ]
     },
     "execution_count": 14,
     "metadata": {},
     "output_type": "execute_result"
    }
   ],
   "source": [
    "staging_songs = pd.read_csv('../../data/staging_songs.csv')\n",
    "staging_songs = staging_songs.drop(staging_songs.columns[[0]], axis=1)\n",
    "staging_songs[['title', 'artist_name']] = staging_songs[['title', 'artist_name']].apply(lambda x: x.str.strip())\n",
    "staging_songs.head(2)"
   ]
  },
  {
   "cell_type": "code",
   "execution_count": 15,
   "metadata": {},
   "outputs": [],
   "source": [
    "staging_events_filtered[['song', 'artist']] = staging_events_filtered[['song', 'artist']].apply(lambda x: x.str.strip())"
   ]
  },
  {
   "cell_type": "code",
   "execution_count": 16,
   "metadata": {},
   "outputs": [
    {
     "name": "stdout",
     "output_type": "stream",
     "text": [
      "(333, 29)\n"
     ]
    },
    {
     "data": {
      "text/html": [
       "<div>\n",
       "<style scoped>\n",
       "    .dataframe tbody tr th:only-of-type {\n",
       "        vertical-align: middle;\n",
       "    }\n",
       "\n",
       "    .dataframe tbody tr th {\n",
       "        vertical-align: top;\n",
       "    }\n",
       "\n",
       "    .dataframe thead th {\n",
       "        text-align: right;\n",
       "    }\n",
       "</style>\n",
       "<table border=\"1\" class=\"dataframe\">\n",
       "  <thead>\n",
       "    <tr style=\"text-align: right;\">\n",
       "      <th></th>\n",
       "      <th>userid</th>\n",
       "      <th>firstname</th>\n",
       "      <th>lastname</th>\n",
       "      <th>gender</th>\n",
       "      <th>level</th>\n",
       "      <th>artist</th>\n",
       "      <th>song</th>\n",
       "      <th>length</th>\n",
       "      <th>sessionid</th>\n",
       "      <th>auth</th>\n",
       "      <th>...</th>\n",
       "      <th>song_id</th>\n",
       "      <th>title</th>\n",
       "      <th>duration</th>\n",
       "      <th>year</th>\n",
       "      <th>num_songs</th>\n",
       "      <th>artist_id</th>\n",
       "      <th>artist_name</th>\n",
       "      <th>artist_location</th>\n",
       "      <th>artist_latitude</th>\n",
       "      <th>artist_longitude</th>\n",
       "    </tr>\n",
       "  </thead>\n",
       "  <tbody>\n",
       "    <tr>\n",
       "      <th>0</th>\n",
       "      <td>8.0</td>\n",
       "      <td>Kaylee</td>\n",
       "      <td>Summers</td>\n",
       "      <td>F</td>\n",
       "      <td>free</td>\n",
       "      <td>The Mars Volta</td>\n",
       "      <td>Eriatarka</td>\n",
       "      <td>380.42077</td>\n",
       "      <td>139</td>\n",
       "      <td>Logged In</td>\n",
       "      <td>...</td>\n",
       "      <td>SOEIQUY12AF72A086A</td>\n",
       "      <td>Eriatarka</td>\n",
       "      <td>380.42077</td>\n",
       "      <td>2003</td>\n",
       "      <td>1</td>\n",
       "      <td>ARHUC691187B9AD27F</td>\n",
       "      <td>The Mars Volta</td>\n",
       "      <td>Long Beach, California</td>\n",
       "      <td>NaN</td>\n",
       "      <td>NaN</td>\n",
       "    </tr>\n",
       "    <tr>\n",
       "      <th>1</th>\n",
       "      <td>50.0</td>\n",
       "      <td>Ava</td>\n",
       "      <td>Robinson</td>\n",
       "      <td>F</td>\n",
       "      <td>free</td>\n",
       "      <td>Dwight Yoakam</td>\n",
       "      <td>You're The One</td>\n",
       "      <td>239.30730</td>\n",
       "      <td>156</td>\n",
       "      <td>Logged In</td>\n",
       "      <td>...</td>\n",
       "      <td>SOBONKR12A58A7A7E0</td>\n",
       "      <td>You're The One</td>\n",
       "      <td>239.30730</td>\n",
       "      <td>1990</td>\n",
       "      <td>1</td>\n",
       "      <td>AR5E44Z1187B9A1D74</td>\n",
       "      <td>Dwight Yoakam</td>\n",
       "      <td>Pikeville, KY</td>\n",
       "      <td>37.4817</td>\n",
       "      <td>-82.51887</td>\n",
       "    </tr>\n",
       "  </tbody>\n",
       "</table>\n",
       "<p>2 rows × 29 columns</p>\n",
       "</div>"
      ],
      "text/plain": [
       "   userid firstname  lastname gender level          artist            song  \\\n",
       "0     8.0    Kaylee   Summers      F  free  The Mars Volta       Eriatarka   \n",
       "1    50.0       Ava  Robinson      F  free   Dwight Yoakam  You're The One   \n",
       "\n",
       "      length  sessionid       auth  ...             song_id           title  \\\n",
       "0  380.42077        139  Logged In  ...  SOEIQUY12AF72A086A       Eriatarka   \n",
       "1  239.30730        156  Logged In  ...  SOBONKR12A58A7A7E0  You're The One   \n",
       "\n",
       "    duration  year num_songs           artist_id     artist_name  \\\n",
       "0  380.42077  2003         1  ARHUC691187B9AD27F  The Mars Volta   \n",
       "1  239.30730  1990         1  AR5E44Z1187B9A1D74   Dwight Yoakam   \n",
       "\n",
       "          artist_location artist_latitude artist_longitude  \n",
       "0  Long Beach, California             NaN              NaN  \n",
       "1           Pikeville, KY         37.4817        -82.51887  \n",
       "\n",
       "[2 rows x 29 columns]"
      ]
     },
     "execution_count": 16,
     "metadata": {},
     "output_type": "execute_result"
    }
   ],
   "source": [
    "staging_songplays = pd.merge(\n",
    "    staging_events_filtered,\n",
    "    staging_songs,\n",
    "    how=\"inner\",\n",
    "    left_on=['song', 'artist'],\n",
    "    right_on=['title', 'artist_name']\n",
    ")\n",
    "print(staging_songplays.shape) \n",
    "staging_songplays.head(2)"
   ]
  },
  {
   "cell_type": "code",
   "execution_count": 17,
   "metadata": {},
   "outputs": [
    {
     "data": {
      "text/html": [
       "<div>\n",
       "<style scoped>\n",
       "    .dataframe tbody tr th:only-of-type {\n",
       "        vertical-align: middle;\n",
       "    }\n",
       "\n",
       "    .dataframe tbody tr th {\n",
       "        vertical-align: top;\n",
       "    }\n",
       "\n",
       "    .dataframe thead th {\n",
       "        text-align: right;\n",
       "    }\n",
       "</style>\n",
       "<table border=\"1\" class=\"dataframe\">\n",
       "  <thead>\n",
       "    <tr style=\"text-align: right;\">\n",
       "      <th></th>\n",
       "      <th>Unnamed: 0</th>\n",
       "      <th>user_id</th>\n",
       "      <th>first_name</th>\n",
       "      <th>last_name</th>\n",
       "      <th>gender</th>\n",
       "      <th>level</th>\n",
       "    </tr>\n",
       "  </thead>\n",
       "  <tbody>\n",
       "    <tr>\n",
       "      <th>0</th>\n",
       "      <td>0</td>\n",
       "      <td>2</td>\n",
       "      <td>Jizelle</td>\n",
       "      <td>Benjamin</td>\n",
       "      <td>F</td>\n",
       "      <td>free</td>\n",
       "    </tr>\n",
       "    <tr>\n",
       "      <th>1</th>\n",
       "      <td>1</td>\n",
       "      <td>4</td>\n",
       "      <td>Alivia</td>\n",
       "      <td>Terrell</td>\n",
       "      <td>F</td>\n",
       "      <td>free</td>\n",
       "    </tr>\n",
       "  </tbody>\n",
       "</table>\n",
       "</div>"
      ],
      "text/plain": [
       "   Unnamed: 0  user_id first_name last_name gender level\n",
       "0           0        2    Jizelle  Benjamin      F  free\n",
       "1           1        4     Alivia   Terrell      F  free"
      ]
     },
     "execution_count": 17,
     "metadata": {},
     "output_type": "execute_result"
    }
   ],
   "source": [
    "users = pd.read_csv('../../data/users.csv')\n",
    "users.head(2)"
   ]
  },
  {
   "cell_type": "code",
   "execution_count": 18,
   "metadata": {},
   "outputs": [
    {
     "data": {
      "text/html": [
       "<div>\n",
       "<style scoped>\n",
       "    .dataframe tbody tr th:only-of-type {\n",
       "        vertical-align: middle;\n",
       "    }\n",
       "\n",
       "    .dataframe tbody tr th {\n",
       "        vertical-align: top;\n",
       "    }\n",
       "\n",
       "    .dataframe thead th {\n",
       "        text-align: right;\n",
       "    }\n",
       "</style>\n",
       "<table border=\"1\" class=\"dataframe\">\n",
       "  <thead>\n",
       "    <tr style=\"text-align: right;\">\n",
       "      <th></th>\n",
       "      <th>Unnamed: 0</th>\n",
       "      <th>song_id</th>\n",
       "      <th>title</th>\n",
       "      <th>year</th>\n",
       "      <th>duration</th>\n",
       "      <th>artist_id</th>\n",
       "    </tr>\n",
       "  </thead>\n",
       "  <tbody>\n",
       "    <tr>\n",
       "      <th>0</th>\n",
       "      <td>0</td>\n",
       "      <td>SOSQIHH12A8C13370B</td>\n",
       "      <td>15 Step</td>\n",
       "      <td>2007</td>\n",
       "      <td>237.21751</td>\n",
       "      <td>ARH6W4X1187B99274F</td>\n",
       "    </tr>\n",
       "    <tr>\n",
       "      <th>1</th>\n",
       "      <td>1</td>\n",
       "      <td>SOKOGIP12AB0182FCD</td>\n",
       "      <td>Adrenaline</td>\n",
       "      <td>2007</td>\n",
       "      <td>200.90730</td>\n",
       "      <td>AROS1ML1187FB4CF35</td>\n",
       "    </tr>\n",
       "  </tbody>\n",
       "</table>\n",
       "</div>"
      ],
      "text/plain": [
       "   Unnamed: 0             song_id       title  year   duration  \\\n",
       "0           0  SOSQIHH12A8C13370B     15 Step  2007  237.21751   \n",
       "1           1  SOKOGIP12AB0182FCD  Adrenaline  2007  200.90730   \n",
       "\n",
       "            artist_id  \n",
       "0  ARH6W4X1187B99274F  \n",
       "1  AROS1ML1187FB4CF35  "
      ]
     },
     "execution_count": 18,
     "metadata": {},
     "output_type": "execute_result"
    }
   ],
   "source": [
    "songs = pd.read_csv('../../data/songs.csv')\n",
    "songs.head(2)"
   ]
  },
  {
   "cell_type": "code",
   "execution_count": 19,
   "metadata": {},
   "outputs": [
    {
     "data": {
      "text/html": [
       "<div>\n",
       "<style scoped>\n",
       "    .dataframe tbody tr th:only-of-type {\n",
       "        vertical-align: middle;\n",
       "    }\n",
       "\n",
       "    .dataframe tbody tr th {\n",
       "        vertical-align: top;\n",
       "    }\n",
       "\n",
       "    .dataframe thead th {\n",
       "        text-align: right;\n",
       "    }\n",
       "</style>\n",
       "<table border=\"1\" class=\"dataframe\">\n",
       "  <thead>\n",
       "    <tr style=\"text-align: right;\">\n",
       "      <th></th>\n",
       "      <th>Unnamed: 0</th>\n",
       "      <th>artist_id</th>\n",
       "      <th>name</th>\n",
       "      <th>location</th>\n",
       "      <th>latitude</th>\n",
       "      <th>longitude</th>\n",
       "    </tr>\n",
       "  </thead>\n",
       "  <tbody>\n",
       "    <tr>\n",
       "      <th>0</th>\n",
       "      <td>0</td>\n",
       "      <td>AROS1ML1187FB4CF35</td>\n",
       "      <td>12 Stones</td>\n",
       "      <td>Mandeville, Louisiana</td>\n",
       "      <td>30.37251</td>\n",
       "      <td>-90.0791</td>\n",
       "    </tr>\n",
       "    <tr>\n",
       "      <th>1</th>\n",
       "      <td>1</td>\n",
       "      <td>ARHO39G1187FB4E31B</td>\n",
       "      <td>38 Special</td>\n",
       "      <td>Jacksonville, FL</td>\n",
       "      <td>NaN</td>\n",
       "      <td>NaN</td>\n",
       "    </tr>\n",
       "  </tbody>\n",
       "</table>\n",
       "</div>"
      ],
      "text/plain": [
       "   Unnamed: 0           artist_id        name               location  \\\n",
       "0           0  AROS1ML1187FB4CF35   12 Stones  Mandeville, Louisiana   \n",
       "1           1  ARHO39G1187FB4E31B  38 Special       Jacksonville, FL   \n",
       "\n",
       "   latitude  longitude  \n",
       "0  30.37251   -90.0791  \n",
       "1       NaN        NaN  "
      ]
     },
     "execution_count": 19,
     "metadata": {},
     "output_type": "execute_result"
    }
   ],
   "source": [
    "artists = pd.read_csv('../../data/artists.csv')\n",
    "artists.head(2)"
   ]
  },
  {
   "cell_type": "code",
   "execution_count": 20,
   "metadata": {},
   "outputs": [
    {
     "data": {
      "text/html": [
       "<div>\n",
       "<style scoped>\n",
       "    .dataframe tbody tr th:only-of-type {\n",
       "        vertical-align: middle;\n",
       "    }\n",
       "\n",
       "    .dataframe tbody tr th {\n",
       "        vertical-align: top;\n",
       "    }\n",
       "\n",
       "    .dataframe thead th {\n",
       "        text-align: right;\n",
       "    }\n",
       "</style>\n",
       "<table border=\"1\" class=\"dataframe\">\n",
       "  <thead>\n",
       "    <tr style=\"text-align: right;\">\n",
       "      <th></th>\n",
       "      <th>Unnamed: 0</th>\n",
       "      <th>start_time</th>\n",
       "      <th>hour</th>\n",
       "      <th>day</th>\n",
       "      <th>week</th>\n",
       "      <th>month</th>\n",
       "      <th>year</th>\n",
       "      <th>weekday</th>\n",
       "    </tr>\n",
       "  </thead>\n",
       "  <tbody>\n",
       "    <tr>\n",
       "      <th>0</th>\n",
       "      <td>0</td>\n",
       "      <td>2018-11-02 17:31:45.796</td>\n",
       "      <td>17</td>\n",
       "      <td>2</td>\n",
       "      <td>44</td>\n",
       "      <td>11</td>\n",
       "      <td>2018</td>\n",
       "      <td>5</td>\n",
       "    </tr>\n",
       "    <tr>\n",
       "      <th>1</th>\n",
       "      <td>1</td>\n",
       "      <td>2018-11-02 18:02:42.796</td>\n",
       "      <td>18</td>\n",
       "      <td>2</td>\n",
       "      <td>44</td>\n",
       "      <td>11</td>\n",
       "      <td>2018</td>\n",
       "      <td>5</td>\n",
       "    </tr>\n",
       "  </tbody>\n",
       "</table>\n",
       "</div>"
      ],
      "text/plain": [
       "   Unnamed: 0               start_time  hour  day  week  month  year  weekday\n",
       "0           0  2018-11-02 17:31:45.796    17    2    44     11  2018        5\n",
       "1           1  2018-11-02 18:02:42.796    18    2    44     11  2018        5"
      ]
     },
     "execution_count": 20,
     "metadata": {},
     "output_type": "execute_result"
    }
   ],
   "source": [
    "time = pd.read_csv('../../data/time.csv')\n",
    "time.head(2)"
   ]
  },
  {
   "cell_type": "code",
   "execution_count": 21,
   "metadata": {},
   "outputs": [
    {
     "data": {
      "text/html": [
       "<div>\n",
       "<style scoped>\n",
       "    .dataframe tbody tr th:only-of-type {\n",
       "        vertical-align: middle;\n",
       "    }\n",
       "\n",
       "    .dataframe tbody tr th {\n",
       "        vertical-align: top;\n",
       "    }\n",
       "\n",
       "    .dataframe thead th {\n",
       "        text-align: right;\n",
       "    }\n",
       "</style>\n",
       "<table border=\"1\" class=\"dataframe\">\n",
       "  <thead>\n",
       "    <tr style=\"text-align: right;\">\n",
       "      <th></th>\n",
       "      <th>Unnamed: 0</th>\n",
       "      <th>songplay_id</th>\n",
       "      <th>level</th>\n",
       "      <th>location</th>\n",
       "      <th>user_agent</th>\n",
       "      <th>session_id</th>\n",
       "      <th>user_id</th>\n",
       "      <th>song_id</th>\n",
       "      <th>artist_id</th>\n",
       "      <th>start_time</th>\n",
       "    </tr>\n",
       "  </thead>\n",
       "  <tbody>\n",
       "    <tr>\n",
       "      <th>0</th>\n",
       "      <td>0</td>\n",
       "      <td>101823</td>\n",
       "      <td>free</td>\n",
       "      <td>Washington-Arlington-Alexandria, DC-VA-MD-WV</td>\n",
       "      <td>\"Mozilla/5.0 (Macintosh; Intel Mac OS X 10_9_4...</td>\n",
       "      <td>182</td>\n",
       "      <td>10</td>\n",
       "      <td>SOHTKMO12AB01843B0</td>\n",
       "      <td>AR5EYTL1187B98EDA0</td>\n",
       "      <td>2018-11-02 17:31:45.796</td>\n",
       "    </tr>\n",
       "    <tr>\n",
       "      <th>1</th>\n",
       "      <td>1</td>\n",
       "      <td>502072</td>\n",
       "      <td>free</td>\n",
       "      <td>New Haven-Milford, CT</td>\n",
       "      <td>\"Mozilla/5.0 (Windows NT 6.3; WOW64) AppleWebK...</td>\n",
       "      <td>207</td>\n",
       "      <td>50</td>\n",
       "      <td>SOBONKR12A58A7A7E0</td>\n",
       "      <td>AR5E44Z1187B9A1D74</td>\n",
       "      <td>2018-11-02 18:02:42.796</td>\n",
       "    </tr>\n",
       "  </tbody>\n",
       "</table>\n",
       "</div>"
      ],
      "text/plain": [
       "   Unnamed: 0  songplay_id level  \\\n",
       "0           0       101823  free   \n",
       "1           1       502072  free   \n",
       "\n",
       "                                       location  \\\n",
       "0  Washington-Arlington-Alexandria, DC-VA-MD-WV   \n",
       "1                         New Haven-Milford, CT   \n",
       "\n",
       "                                          user_agent  session_id  user_id  \\\n",
       "0  \"Mozilla/5.0 (Macintosh; Intel Mac OS X 10_9_4...         182       10   \n",
       "1  \"Mozilla/5.0 (Windows NT 6.3; WOW64) AppleWebK...         207       50   \n",
       "\n",
       "              song_id           artist_id               start_time  \n",
       "0  SOHTKMO12AB01843B0  AR5EYTL1187B98EDA0  2018-11-02 17:31:45.796  \n",
       "1  SOBONKR12A58A7A7E0  AR5E44Z1187B9A1D74  2018-11-02 18:02:42.796  "
      ]
     },
     "execution_count": 21,
     "metadata": {},
     "output_type": "execute_result"
    }
   ],
   "source": [
    "songplays = pd.read_csv('../../data/songplays.csv')\n",
    "songplays.head(2)"
   ]
  },
  {
   "cell_type": "code",
   "execution_count": 22,
   "metadata": {},
   "outputs": [
    {
     "data": {
      "text/html": [
       "<div>\n",
       "<style scoped>\n",
       "    .dataframe tbody tr th:only-of-type {\n",
       "        vertical-align: middle;\n",
       "    }\n",
       "\n",
       "    .dataframe tbody tr th {\n",
       "        vertical-align: top;\n",
       "    }\n",
       "\n",
       "    .dataframe thead th {\n",
       "        text-align: right;\n",
       "    }\n",
       "</style>\n",
       "<table border=\"1\" class=\"dataframe\">\n",
       "  <thead>\n",
       "    <tr style=\"text-align: right;\">\n",
       "      <th></th>\n",
       "      <th>songplays</th>\n",
       "      <th>users</th>\n",
       "      <th>songs</th>\n",
       "      <th>artists</th>\n",
       "      <th>time</th>\n",
       "    </tr>\n",
       "  </thead>\n",
       "  <tbody>\n",
       "    <tr>\n",
       "      <th>0</th>\n",
       "      <td>319</td>\n",
       "      <td>104</td>\n",
       "      <td>209</td>\n",
       "      <td>195</td>\n",
       "      <td>319</td>\n",
       "    </tr>\n",
       "  </tbody>\n",
       "</table>\n",
       "</div>"
      ],
      "text/plain": [
       "   songplays  users  songs  artists  time\n",
       "0        319    104    209      195   319"
      ]
     },
     "execution_count": 22,
     "metadata": {},
     "output_type": "execute_result"
    }
   ],
   "source": [
    "pd.DataFrame({\n",
    "    'songplays': [songplays.shape[0]],\n",
    "    'users': [users.shape[0]],\n",
    "    'songs': [songs.shape[0]],\n",
    "    'artists': [artists.shape[0]],\n",
    "    'time': [time.shape[0]],\n",
    "})"
   ]
  }
 ],
 "metadata": {
  "kernelspec": {
   "display_name": "Python 3.10.5 ('py310')",
   "language": "python",
   "name": "python3"
  },
  "language_info": {
   "codemirror_mode": {
    "name": "ipython",
    "version": 3
   },
   "file_extension": ".py",
   "mimetype": "text/x-python",
   "name": "python",
   "nbconvert_exporter": "python",
   "pygments_lexer": "ipython3",
   "version": "3.10.5"
  },
  "orig_nbformat": 4,
  "vscode": {
   "interpreter": {
    "hash": "d47df541592af340dce933e7169349dc2df4da248e87c9a46187cbe39a8376b2"
   }
  }
 },
 "nbformat": 4,
 "nbformat_minor": 2
}
